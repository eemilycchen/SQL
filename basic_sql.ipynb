{
 "cells": [
  {
   "cell_type": "markdown",
   "metadata": {},
   "source": [
    "## Set Up\n",
    "\n"
   ]
  },
  {
   "cell_type": "markdown",
   "metadata": {},
   "source": [
    "In this notebook, I will be exploring the three approaches of preesenting SQL in a Jupyter Notebook demonstrated in [lecture 20 from DATA 100](https://ds100.org/fa24/resources/assets/lectures/lec20/lec20.html). The three approaches are SQL Magic, `pandas`, and DuckDB."
   ]
  },
  {
   "cell_type": "code",
   "execution_count": 1,
   "metadata": {},
   "outputs": [],
   "source": [
    "#pip install jupysql --upgrade"
   ]
  },
  {
   "cell_type": "code",
   "execution_count": 2,
   "metadata": {},
   "outputs": [],
   "source": [
    "import sqlite3"
   ]
  },
  {
   "cell_type": "code",
   "execution_count": 3,
   "metadata": {},
   "outputs": [],
   "source": [
    "%load_ext sql"
   ]
  },
  {
   "cell_type": "code",
   "execution_count": 4,
   "metadata": {},
   "outputs": [],
   "source": [
    "#%pip install duckdb-engine --quiet"
   ]
  },
  {
   "cell_type": "code",
   "execution_count": null,
   "metadata": {},
   "outputs": [],
   "source": [
    "import duckdb\n",
    "\n",
    "# Create a DuckDB database file (example.duckdb)\n",
    "conn = duckdb.connect('example_duck.db')\n",
    "\n",
    "# Optional: Create a table\n",
    "conn.execute('''\n",
    "    CREATE TABLE IF NOT EXISTS Dragon (\n",
    "        name TEXT PRIMARY KEY,\n",
    "        year INTEGER,\n",
    "        cute INTEGER\n",
    "    )\n",
    "''')\n",
    "\n",
    "# Optional: Insert data\n",
    "conn.execute('''\n",
    "    INSERT INTO Dragon (name, year, cute) VALUES\n",
    "    ('hiccup', 2010, 10),\n",
    "    ('drogon', 2011, -100),\n",
    "    ('dragon 2', 2019, 0),\n",
    "    ('puff', 2010, 100),\n",
    "    ('smaug', 2011, NULL)\n",
    "''')\n",
    "\n",
    "# Save changes and close the connection\n",
    "conn.close()\n"
   ]
  },
  {
   "cell_type": "markdown",
   "metadata": {},
   "source": [
    "Need to connect to duckdb."
   ]
  },
  {
   "cell_type": "code",
   "execution_count": 9,
   "metadata": {},
   "outputs": [
    {
     "data": {
      "text/html": [
       "<span style=\"None\">Connecting to &#x27;duckdb:///example_duck.db&#x27;</span>"
      ],
      "text/plain": [
       "Connecting to 'duckdb:///example_duck.db'"
      ]
     },
     "metadata": {},
     "output_type": "display_data"
    }
   ],
   "source": [
    "%sql duckdb:///example_duck.db"
   ]
  },
  {
   "cell_type": "code",
   "execution_count": 10,
   "metadata": {},
   "outputs": [
    {
     "data": {
      "text/html": [
       "<span style=\"None\">Running query in &#x27;duckdb:///example_duck.db&#x27;</span>"
      ],
      "text/plain": [
       "Running query in 'duckdb:///example_duck.db'"
      ]
     },
     "metadata": {},
     "output_type": "display_data"
    },
    {
     "data": {
      "text/html": [
       "<table>\n",
       "    <thead>\n",
       "        <tr>\n",
       "            <th>name</th>\n",
       "            <th>year</th>\n",
       "            <th>cute</th>\n",
       "        </tr>\n",
       "    </thead>\n",
       "    <tbody>\n",
       "        <tr>\n",
       "            <td>hiccup</td>\n",
       "            <td>2010</td>\n",
       "            <td>10</td>\n",
       "        </tr>\n",
       "        <tr>\n",
       "            <td>drogon</td>\n",
       "            <td>2011</td>\n",
       "            <td>-100</td>\n",
       "        </tr>\n",
       "        <tr>\n",
       "            <td>dragon 2</td>\n",
       "            <td>2019</td>\n",
       "            <td>0</td>\n",
       "        </tr>\n",
       "        <tr>\n",
       "            <td>puff</td>\n",
       "            <td>2010</td>\n",
       "            <td>100</td>\n",
       "        </tr>\n",
       "        <tr>\n",
       "            <td>smaug</td>\n",
       "            <td>2011</td>\n",
       "            <td>None</td>\n",
       "        </tr>\n",
       "    </tbody>\n",
       "</table>"
      ],
      "text/plain": [
       "+----------+------+------+\n",
       "|   name   | year | cute |\n",
       "+----------+------+------+\n",
       "|  hiccup  | 2010 |  10  |\n",
       "|  drogon  | 2011 | -100 |\n",
       "| dragon 2 | 2019 |  0   |\n",
       "|   puff   | 2010 | 100  |\n",
       "|  smaug   | 2011 | None |\n",
       "+----------+------+------+"
      ]
     },
     "execution_count": 10,
     "metadata": {},
     "output_type": "execute_result"
    }
   ],
   "source": [
    "%%sql \n",
    "SELECT * \n",
    "FROM Dragon;"
   ]
  }
 ],
 "metadata": {
  "kernelspec": {
   "display_name": "base",
   "language": "python",
   "name": "python3"
  },
  "language_info": {
   "codemirror_mode": {
    "name": "ipython",
    "version": 3
   },
   "file_extension": ".py",
   "mimetype": "text/x-python",
   "name": "python",
   "nbconvert_exporter": "python",
   "pygments_lexer": "ipython3",
   "version": "3.11.5"
  }
 },
 "nbformat": 4,
 "nbformat_minor": 2
}
