{
 "cells": [
  {
   "cell_type": "markdown",
   "metadata": {},
   "source": [
    "## Set Up\n",
    "\n"
   ]
  },
  {
   "cell_type": "markdown",
   "metadata": {},
   "source": [
    "In this notebook, I will be exploring the three approaches of presenting SQL in a Jupyter Notebook demonstrated in [lecture 20 from DATA 100](https://ds100.org/fa24/resources/assets/lectures/lec20/lec20.html). The three approaches are SQL Magic, `pandas`, and DuckDB."
   ]
  },
  {
   "cell_type": "code",
   "execution_count": 1,
   "metadata": {},
   "outputs": [],
   "source": [
    "#pip install jupysql --upgrade\n",
    "#%pip install duckdb-engine --quiet"
   ]
  },
  {
   "cell_type": "code",
   "execution_count": 2,
   "metadata": {},
   "outputs": [],
   "source": [
    "import sqlite3\n",
    "import duckdb\n",
    "import pandas as pd\n",
    "%load_ext sql"
   ]
  },
  {
   "cell_type": "code",
   "execution_count": 3,
   "metadata": {},
   "outputs": [],
   "source": [
    "# Create a DuckDB database file (example.duckdb)\n",
    "conn = duckdb.connect('example_duck.db')\n",
    "\n",
    "# Optional: Create a table\n",
    "conn.execute('''\n",
    "    CREATE TABLE IF NOT EXISTS Dragon (\n",
    "        name TEXT PRIMARY KEY,\n",
    "        year INTEGER,\n",
    "        cute INTEGER\n",
    "    )\n",
    "''')\n",
    "\n",
    "# Optional: Insert data\n",
    "conn.execute('''\n",
    "    INSERT INTO Dragon (name, year, cute) \n",
    "    VALUES('hiccup', 2010, 10),\n",
    "    ('drogon', 2011, -100),\n",
    "    ('dragon 2', 2019, 0),\n",
    "    ('puff', 2010, 100),\n",
    "    ('smaug', 2011, NULL)\n",
    "''')\n",
    "\n",
    "# Save changes and close the connection\n",
    "conn.close()\n"
   ]
  },
  {
   "cell_type": "markdown",
   "metadata": {},
   "source": [
    "Need to connect to duckdb."
   ]
  },
  {
   "cell_type": "code",
   "execution_count": 4,
   "metadata": {},
   "outputs": [
    {
     "data": {
      "text/html": [
       "<span style=\"None\">Connecting to &#x27;duckdb:///example_duck.db&#x27;</span>"
      ],
      "text/plain": [
       "Connecting to 'duckdb:///example_duck.db'"
      ]
     },
     "metadata": {},
     "output_type": "display_data"
    }
   ],
   "source": [
    "%sql duckdb:///example_duck.db"
   ]
  },
  {
   "cell_type": "code",
   "execution_count": 5,
   "metadata": {},
   "outputs": [
    {
     "data": {
      "text/html": [
       "<span style=\"None\">Running query in &#x27;duckdb:///example_duck.db&#x27;</span>"
      ],
      "text/plain": [
       "Running query in 'duckdb:///example_duck.db'"
      ]
     },
     "metadata": {},
     "output_type": "display_data"
    },
    {
     "data": {
      "text/html": [
       "<table>\n",
       "    <thead>\n",
       "        <tr>\n",
       "            <th>name</th>\n",
       "            <th>year</th>\n",
       "            <th>cute</th>\n",
       "        </tr>\n",
       "    </thead>\n",
       "    <tbody>\n",
       "        <tr>\n",
       "            <td>hiccup</td>\n",
       "            <td>2010</td>\n",
       "            <td>10</td>\n",
       "        </tr>\n",
       "        <tr>\n",
       "            <td>drogon</td>\n",
       "            <td>2011</td>\n",
       "            <td>-100</td>\n",
       "        </tr>\n",
       "        <tr>\n",
       "            <td>dragon 2</td>\n",
       "            <td>2019</td>\n",
       "            <td>0</td>\n",
       "        </tr>\n",
       "        <tr>\n",
       "            <td>puff</td>\n",
       "            <td>2010</td>\n",
       "            <td>100</td>\n",
       "        </tr>\n",
       "        <tr>\n",
       "            <td>smaug</td>\n",
       "            <td>2011</td>\n",
       "            <td>None</td>\n",
       "        </tr>\n",
       "    </tbody>\n",
       "</table>"
      ],
      "text/plain": [
       "+----------+------+------+\n",
       "|   name   | year | cute |\n",
       "+----------+------+------+\n",
       "|  hiccup  | 2010 |  10  |\n",
       "|  drogon  | 2011 | -100 |\n",
       "| dragon 2 | 2019 |  0   |\n",
       "|   puff   | 2010 | 100  |\n",
       "|  smaug   | 2011 | None |\n",
       "+----------+------+------+"
      ]
     },
     "execution_count": 5,
     "metadata": {},
     "output_type": "execute_result"
    }
   ],
   "source": [
    "%%sql \n",
    "SELECT * \n",
    "FROM Dragon;"
   ]
  },
  {
   "cell_type": "markdown",
   "metadata": {},
   "source": [
    "Using `pandas` to read SQL queries."
   ]
  },
  {
   "cell_type": "code",
   "execution_count": 6,
   "metadata": {},
   "outputs": [],
   "source": [
    "import sqlalchemy \n",
    "import pandas as pd\n",
    "\n",
    "engine = sqlalchemy.create_engine(\"duckdb:///example_duck.db\")"
   ]
  },
  {
   "cell_type": "code",
   "execution_count": 7,
   "metadata": {},
   "outputs": [
    {
     "data": {
      "text/html": [
       "<div>\n",
       "<style scoped>\n",
       "    .dataframe tbody tr th:only-of-type {\n",
       "        vertical-align: middle;\n",
       "    }\n",
       "\n",
       "    .dataframe tbody tr th {\n",
       "        vertical-align: top;\n",
       "    }\n",
       "\n",
       "    .dataframe thead th {\n",
       "        text-align: right;\n",
       "    }\n",
       "</style>\n",
       "<table border=\"1\" class=\"dataframe\">\n",
       "  <thead>\n",
       "    <tr style=\"text-align: right;\">\n",
       "      <th></th>\n",
       "      <th>name</th>\n",
       "      <th>year</th>\n",
       "      <th>cute</th>\n",
       "    </tr>\n",
       "  </thead>\n",
       "  <tbody>\n",
       "    <tr>\n",
       "      <th>0</th>\n",
       "      <td>hiccup</td>\n",
       "      <td>2010</td>\n",
       "      <td>10.0</td>\n",
       "    </tr>\n",
       "    <tr>\n",
       "      <th>1</th>\n",
       "      <td>drogon</td>\n",
       "      <td>2011</td>\n",
       "      <td>-100.0</td>\n",
       "    </tr>\n",
       "    <tr>\n",
       "      <th>2</th>\n",
       "      <td>dragon 2</td>\n",
       "      <td>2019</td>\n",
       "      <td>0.0</td>\n",
       "    </tr>\n",
       "    <tr>\n",
       "      <th>3</th>\n",
       "      <td>puff</td>\n",
       "      <td>2010</td>\n",
       "      <td>100.0</td>\n",
       "    </tr>\n",
       "    <tr>\n",
       "      <th>4</th>\n",
       "      <td>smaug</td>\n",
       "      <td>2011</td>\n",
       "      <td>NaN</td>\n",
       "    </tr>\n",
       "  </tbody>\n",
       "</table>\n",
       "</div>"
      ],
      "text/plain": [
       "       name  year   cute\n",
       "0    hiccup  2010   10.0\n",
       "1    drogon  2011 -100.0\n",
       "2  dragon 2  2019    0.0\n",
       "3      puff  2010  100.0\n",
       "4     smaug  2011    NaN"
      ]
     },
     "execution_count": 7,
     "metadata": {},
     "output_type": "execute_result"
    }
   ],
   "source": [
    "query = \"\"\"\n",
    "SELECT * \n",
    "FROM Dragon;\n",
    "\"\"\"\n",
    "\n",
    "df = pd.read_sql(query, engine)\n",
    "df"
   ]
  },
  {
   "cell_type": "markdown",
   "metadata": {},
   "source": [
    "## Practicing SQL\n",
    "### Financial Data\n",
    "I am interested in fiance, and to get started, I will be using this [financial data](https://datahub.io/core/s-and-p-500-companies-financials). There are two datasets in this source. The first one is called `constituents` and the other one is called `constituents-financial`.\n",
    "\n",
    "According to [S&P 500](https://www.spglobal.com/spdji/en/indices/equity/sp-500/#overview), they are used to gauge the large-cap U.S. equities. They document their methodology and have their index include 500 leading companies and covers approximately 80% of available market capitalization. The dataset is currently not published on their website, so I will be using datahub.io.\n"
   ]
  },
  {
   "cell_type": "code",
   "execution_count": 8,
   "metadata": {},
   "outputs": [],
   "source": [
    "conn = duckdb.connect('finance_database.db')\n",
    "\n",
    "# Optional: Create a table\n",
    "conn.execute('''\n",
    "    CREATE TABLE IF NOT EXISTS constituents AS SELECT * FROM read_csv_auto('constituents.csv')\n",
    "''')\n",
    "\n",
    "conn.execute('''\n",
    "    CREATE TABLE IF NOT EXISTS constituents_financial AS SELECT * FROM read_csv_auto('constituents-financial.csv')\n",
    "''')\n",
    "\n",
    "conn.close()"
   ]
  },
  {
   "cell_type": "code",
   "execution_count": 9,
   "metadata": {},
   "outputs": [
    {
     "data": {
      "text/html": [
       "<span style=\"None\">Connecting and switching to connection &#x27;duckdb:///finance_database.db&#x27;</span>"
      ],
      "text/plain": [
       "Connecting and switching to connection 'duckdb:///finance_database.db'"
      ]
     },
     "metadata": {},
     "output_type": "display_data"
    }
   ],
   "source": [
    "%sql duckdb:///finance_database.db"
   ]
  },
  {
   "cell_type": "code",
   "execution_count": 10,
   "metadata": {},
   "outputs": [
    {
     "data": {
      "text/html": [
       "<span style=\"None\">Running query in &#x27;duckdb:///finance_database.db&#x27;</span>"
      ],
      "text/plain": [
       "Running query in 'duckdb:///finance_database.db'"
      ]
     },
     "metadata": {},
     "output_type": "display_data"
    },
    {
     "data": {
      "text/html": [
       "<table>\n",
       "    <thead>\n",
       "        <tr>\n",
       "            <th>Symbol</th>\n",
       "            <th>Name</th>\n",
       "            <th>Sector</th>\n",
       "        </tr>\n",
       "    </thead>\n",
       "    <tbody>\n",
       "        <tr>\n",
       "            <td>A</td>\n",
       "            <td>Agilent Technologies</td>\n",
       "            <td>Life Sciences Tools & Services</td>\n",
       "        </tr>\n",
       "        <tr>\n",
       "            <td>AAPL</td>\n",
       "            <td>Apple Inc.</td>\n",
       "            <td>Technology Hardware, Storage & Peripherals</td>\n",
       "        </tr>\n",
       "        <tr>\n",
       "            <td>ABBV</td>\n",
       "            <td>AbbVie</td>\n",
       "            <td>Biotechnology</td>\n",
       "        </tr>\n",
       "        <tr>\n",
       "            <td>ABNB</td>\n",
       "            <td>Airbnb</td>\n",
       "            <td>Hotels, Resorts & Cruise Lines</td>\n",
       "        </tr>\n",
       "        <tr>\n",
       "            <td>ABT</td>\n",
       "            <td>Abbott Laboratories</td>\n",
       "            <td>Health Care Equipment</td>\n",
       "        </tr>\n",
       "        <tr>\n",
       "            <td>ACGL</td>\n",
       "            <td>Arch Capital Group</td>\n",
       "            <td>Property & Casualty Insurance</td>\n",
       "        </tr>\n",
       "        <tr>\n",
       "            <td>ACN</td>\n",
       "            <td>Accenture</td>\n",
       "            <td>IT Consulting & Other Services</td>\n",
       "        </tr>\n",
       "        <tr>\n",
       "            <td>ADBE</td>\n",
       "            <td>Adobe Inc.</td>\n",
       "            <td>Application Software</td>\n",
       "        </tr>\n",
       "        <tr>\n",
       "            <td>ADI</td>\n",
       "            <td>Analog Devices</td>\n",
       "            <td>Semiconductors</td>\n",
       "        </tr>\n",
       "        <tr>\n",
       "            <td>ADM</td>\n",
       "            <td>Archer Daniels Midland</td>\n",
       "            <td>Agricultural Products & Services</td>\n",
       "        </tr>\n",
       "    </tbody>\n",
       "</table>\n",
       "<span style=\"font-style:italic;text-align:center;\">Truncated to <a href=\"https://jupysql.ploomber.io/en/latest/api/configuration.html#displaylimit\">displaylimit</a> of 10.</span>"
      ],
      "text/plain": [
       "+--------+------------------------+--------------------------------------------+\n",
       "| Symbol |          Name          |                   Sector                   |\n",
       "+--------+------------------------+--------------------------------------------+\n",
       "|   A    |  Agilent Technologies  |       Life Sciences Tools & Services       |\n",
       "|  AAPL  |       Apple Inc.       | Technology Hardware, Storage & Peripherals |\n",
       "|  ABBV  |         AbbVie         |               Biotechnology                |\n",
       "|  ABNB  |         Airbnb         |       Hotels, Resorts & Cruise Lines       |\n",
       "|  ABT   |  Abbott Laboratories   |           Health Care Equipment            |\n",
       "|  ACGL  |   Arch Capital Group   |       Property & Casualty Insurance        |\n",
       "|  ACN   |       Accenture        |       IT Consulting & Other Services       |\n",
       "|  ADBE  |       Adobe Inc.       |            Application Software            |\n",
       "|  ADI   |     Analog Devices     |               Semiconductors               |\n",
       "|  ADM   | Archer Daniels Midland |      Agricultural Products & Services      |\n",
       "+--------+------------------------+--------------------------------------------+\n",
       "Truncated to displaylimit of 10."
      ]
     },
     "execution_count": 10,
     "metadata": {},
     "output_type": "execute_result"
    }
   ],
   "source": [
    "%%sql \n",
    "SELECT * \n",
    "FROM constituents;"
   ]
  },
  {
   "cell_type": "code",
   "execution_count": 11,
   "metadata": {},
   "outputs": [
    {
     "data": {
      "text/html": [
       "<span style=\"None\">Running query in &#x27;duckdb:///finance_database.db&#x27;</span>"
      ],
      "text/plain": [
       "Running query in 'duckdb:///finance_database.db'"
      ]
     },
     "metadata": {},
     "output_type": "display_data"
    },
    {
     "data": {
      "text/html": [
       "<table>\n",
       "    <thead>\n",
       "        <tr>\n",
       "            <th>Symbol</th>\n",
       "            <th>Name</th>\n",
       "            <th>Sector</th>\n",
       "            <th>Price</th>\n",
       "            <th>Price/Earnings</th>\n",
       "            <th>Dividend Yield</th>\n",
       "            <th>Earnings/Share</th>\n",
       "            <th>52 Week Low</th>\n",
       "            <th>52 Week High</th>\n",
       "            <th>Market Cap</th>\n",
       "            <th>EBITDA</th>\n",
       "            <th>Price/Sales</th>\n",
       "            <th>Price/Book</th>\n",
       "            <th>SEC Filings</th>\n",
       "        </tr>\n",
       "    </thead>\n",
       "    <tbody>\n",
       "        <tr>\n",
       "            <td>A</td>\n",
       "            <td>Agilent Technologies</td>\n",
       "            <td>Life Sciences Tools & Services</td>\n",
       "            <td>151.52</td>\n",
       "            <td>34.126125</td>\n",
       "            <td>null</td>\n",
       "            <td>null</td>\n",
       "            <td>124.16</td>\n",
       "            <td>155.35</td>\n",
       "            <td>43273355264</td>\n",
       "            <td>null</td>\n",
       "            <td>null</td>\n",
       "            <td>null</td>\n",
       "            <td><a href=http://www.sec.gov/cgi-bin/browse-edgar?action=getcompany&CIK=A>http://www.sec.gov/cgi-bin/browse-edgar?action=getcompany&CIK=A</a></td>\n",
       "        </tr>\n",
       "        <tr>\n",
       "            <td>AAPL</td>\n",
       "            <td>Apple Inc.</td>\n",
       "            <td>Technology Hardware, Storage & Peripherals</td>\n",
       "            <td>236</td>\n",
       "            <td>37.76</td>\n",
       "            <td>0.0042</td>\n",
       "            <td>6.25</td>\n",
       "            <td>164.08</td>\n",
       "            <td>260.1</td>\n",
       "            <td>3572851277824</td>\n",
       "            <td>134660997120</td>\n",
       "            <td>9.1369095</td>\n",
       "            <td>62.649323</td>\n",
       "            <td><a href=http://www.sec.gov/cgi-bin/browse-edgar?action=getcompany&CIK=AAPL>http://www.sec.gov/cgi-bin/browse-edgar?action=getcompany&CIK=AAPL</a></td>\n",
       "        </tr>\n",
       "        <tr>\n",
       "            <td>ABBV</td>\n",
       "            <td>AbbVie</td>\n",
       "            <td>Biotechnology</td>\n",
       "            <td>183.9</td>\n",
       "            <td>64.3007</td>\n",
       "            <td>0.0373</td>\n",
       "            <td>2.86</td>\n",
       "            <td>153.58</td>\n",
       "            <td>207.32</td>\n",
       "            <td>324977033216</td>\n",
       "            <td>25629999104</td>\n",
       "            <td>5.8519626</td>\n",
       "            <td>53.88221</td>\n",
       "            <td><a href=http://www.sec.gov/cgi-bin/browse-edgar?action=getcompany&CIK=ABBV>http://www.sec.gov/cgi-bin/browse-edgar?action=getcompany&CIK=ABBV</a></td>\n",
       "        </tr>\n",
       "        <tr>\n",
       "            <td>ABNB</td>\n",
       "            <td>Airbnb</td>\n",
       "            <td>Hotels, Resorts & Cruise Lines</td>\n",
       "            <td>131.17</td>\n",
       "            <td>45.387543</td>\n",
       "            <td>null</td>\n",
       "            <td>2.89</td>\n",
       "            <td>110.38</td>\n",
       "            <td>170.1</td>\n",
       "            <td>81951334400</td>\n",
       "            <td>1672999936</td>\n",
       "            <td>7.560086</td>\n",
       "            <td>9.859441</td>\n",
       "            <td><a href=http://www.sec.gov/cgi-bin/browse-edgar?action=getcompany&CIK=ABNB>http://www.sec.gov/cgi-bin/browse-edgar?action=getcompany&CIK=ABNB</a></td>\n",
       "        </tr>\n",
       "        <tr>\n",
       "            <td>ABT</td>\n",
       "            <td>Abbott Laboratories</td>\n",
       "            <td>Health Care Equipment</td>\n",
       "            <td>127.93</td>\n",
       "            <td>16.744764</td>\n",
       "            <td>0.0202</td>\n",
       "            <td>7.64</td>\n",
       "            <td>99.71</td>\n",
       "            <td>129.85</td>\n",
       "            <td>221889478656</td>\n",
       "            <td>10824999936</td>\n",
       "            <td>5.3834457</td>\n",
       "            <td>5.5757494</td>\n",
       "            <td><a href=http://www.sec.gov/cgi-bin/browse-edgar?action=getcompany&CIK=ABT>http://www.sec.gov/cgi-bin/browse-edgar?action=getcompany&CIK=ABT</a></td>\n",
       "        </tr>\n",
       "        <tr>\n",
       "            <td>ACGL</td>\n",
       "            <td>Arch Capital Group</td>\n",
       "            <td>Property & Casualty Insurance</td>\n",
       "            <td>93.07</td>\n",
       "            <td>6.3485675</td>\n",
       "            <td>null</td>\n",
       "            <td>14.66</td>\n",
       "            <td>80.97</td>\n",
       "            <td>116.47</td>\n",
       "            <td>35584942080</td>\n",
       "            <td>5171999744</td>\n",
       "            <td>2.1097374</td>\n",
       "            <td>1.6261313</td>\n",
       "            <td><a href=http://www.sec.gov/cgi-bin/browse-edgar?action=getcompany&CIK=ACGL>http://www.sec.gov/cgi-bin/browse-edgar?action=getcompany&CIK=ACGL</a></td>\n",
       "        </tr>\n",
       "        <tr>\n",
       "            <td>ACN</td>\n",
       "            <td>Accenture</td>\n",
       "            <td>IT Consulting & Other Services</td>\n",
       "            <td>384.95</td>\n",
       "            <td>32.294464</td>\n",
       "            <td>0.017</td>\n",
       "            <td>11.92</td>\n",
       "            <td>278.69</td>\n",
       "            <td>387.51</td>\n",
       "            <td>240778526720</td>\n",
       "            <td>11065912320</td>\n",
       "            <td>3.7101948</td>\n",
       "            <td>8.508687</td>\n",
       "            <td><a href=http://www.sec.gov/cgi-bin/browse-edgar?action=getcompany&CIK=ACN>http://www.sec.gov/cgi-bin/browse-edgar?action=getcompany&CIK=ACN</a></td>\n",
       "        </tr>\n",
       "        <tr>\n",
       "            <td>ADBE</td>\n",
       "            <td>Adobe Inc.</td>\n",
       "            <td>Application Software</td>\n",
       "            <td>437.45</td>\n",
       "            <td>35.42105</td>\n",
       "            <td>null</td>\n",
       "            <td>12.35</td>\n",
       "            <td>403.75</td>\n",
       "            <td>638.25</td>\n",
       "            <td>190421991424</td>\n",
       "            <td>8134000128</td>\n",
       "            <td>9.090657</td>\n",
       "            <td>13.383815</td>\n",
       "            <td><a href=http://www.sec.gov/cgi-bin/browse-edgar?action=getcompany&CIK=ADBE>http://www.sec.gov/cgi-bin/browse-edgar?action=getcompany&CIK=ADBE</a></td>\n",
       "        </tr>\n",
       "        <tr>\n",
       "            <td>ADI</td>\n",
       "            <td>Analog Devices</td>\n",
       "            <td>Semiconductors</td>\n",
       "            <td>211.89</td>\n",
       "            <td>64.798164</td>\n",
       "            <td>0.0165</td>\n",
       "            <td>3.27</td>\n",
       "            <td>182.57</td>\n",
       "            <td>244.14</td>\n",
       "            <td>105128370176</td>\n",
       "            <td>4361349120</td>\n",
       "            <td>10.837489</td>\n",
       "            <td>2.9895453</td>\n",
       "            <td><a href=http://www.sec.gov/cgi-bin/browse-edgar?action=getcompany&CIK=ADI>http://www.sec.gov/cgi-bin/browse-edgar?action=getcompany&CIK=ADI</a></td>\n",
       "        </tr>\n",
       "        <tr>\n",
       "            <td>ADM</td>\n",
       "            <td>Archer Daniels Midland</td>\n",
       "            <td>Agricultural Products & Services</td>\n",
       "            <td>51.23</td>\n",
       "            <td>14.39045</td>\n",
       "            <td>0.0379</td>\n",
       "            <td>3.56</td>\n",
       "            <td>48.4</td>\n",
       "            <td>66.08</td>\n",
       "            <td>24515297280</td>\n",
       "            <td>3988000000</td>\n",
       "            <td>0.27617267</td>\n",
       "            <td>1.0890499</td>\n",
       "            <td><a href=http://www.sec.gov/cgi-bin/browse-edgar?action=getcompany&CIK=ADM>http://www.sec.gov/cgi-bin/browse-edgar?action=getcompany&CIK=ADM</a></td>\n",
       "        </tr>\n",
       "    </tbody>\n",
       "</table>\n",
       "<span style=\"font-style:italic;text-align:center;\">Truncated to <a href=\"https://jupysql.ploomber.io/en/latest/api/configuration.html#displaylimit\">displaylimit</a> of 10.</span>"
      ],
      "text/plain": [
       "+--------+------------------------+--------------------------------------------+--------+----------------+----------------+----------------+-------------+--------------+---------------+--------------+-------------+------------+---------------------------------------------------------------------------------------------------------------------------------------------------+\n",
       "| Symbol |          Name          |                   Sector                   | Price  | Price/Earnings | Dividend Yield | Earnings/Share | 52 Week Low | 52 Week High |   Market Cap  |    EBITDA    | Price/Sales | Price/Book |                                                                    SEC Filings                                                                    |\n",
       "+--------+------------------------+--------------------------------------------+--------+----------------+----------------+----------------+-------------+--------------+---------------+--------------+-------------+------------+---------------------------------------------------------------------------------------------------------------------------------------------------+\n",
       "|   A    |  Agilent Technologies  |       Life Sciences Tools & Services       | 151.52 |   34.126125    |      null      |      null      |    124.16   |    155.35    |  43273355264  |     null     |     null    |    null    |    <a href=http://www.sec.gov/cgi-bin/browse-edgar?action=getcompany&CIK=A>http://www.sec.gov/cgi-bin/browse-edgar?action=getcompany&CIK=A</a>    |\n",
       "|  AAPL  |       Apple Inc.       | Technology Hardware, Storage & Peripherals |  236   |     37.76      |     0.0042     |      6.25      |    164.08   |    260.1     | 3572851277824 | 134660997120 |  9.1369095  | 62.649323  | <a href=http://www.sec.gov/cgi-bin/browse-edgar?action=getcompany&CIK=AAPL>http://www.sec.gov/cgi-bin/browse-edgar?action=getcompany&CIK=AAPL</a> |\n",
       "|  ABBV  |         AbbVie         |               Biotechnology                | 183.9  |    64.3007     |     0.0373     |      2.86      |    153.58   |    207.32    |  324977033216 | 25629999104  |  5.8519626  |  53.88221  | <a href=http://www.sec.gov/cgi-bin/browse-edgar?action=getcompany&CIK=ABBV>http://www.sec.gov/cgi-bin/browse-edgar?action=getcompany&CIK=ABBV</a> |\n",
       "|  ABNB  |         Airbnb         |       Hotels, Resorts & Cruise Lines       | 131.17 |   45.387543    |      null      |      2.89      |    110.38   |    170.1     |  81951334400  |  1672999936  |   7.560086  |  9.859441  | <a href=http://www.sec.gov/cgi-bin/browse-edgar?action=getcompany&CIK=ABNB>http://www.sec.gov/cgi-bin/browse-edgar?action=getcompany&CIK=ABNB</a> |\n",
       "|  ABT   |  Abbott Laboratories   |           Health Care Equipment            | 127.93 |   16.744764    |     0.0202     |      7.64      |    99.71    |    129.85    |  221889478656 | 10824999936  |  5.3834457  | 5.5757494  |  <a href=http://www.sec.gov/cgi-bin/browse-edgar?action=getcompany&CIK=ABT>http://www.sec.gov/cgi-bin/browse-edgar?action=getcompany&CIK=ABT</a>  |\n",
       "|  ACGL  |   Arch Capital Group   |       Property & Casualty Insurance        | 93.07  |   6.3485675    |      null      |     14.66      |    80.97    |    116.47    |  35584942080  |  5171999744  |  2.1097374  | 1.6261313  | <a href=http://www.sec.gov/cgi-bin/browse-edgar?action=getcompany&CIK=ACGL>http://www.sec.gov/cgi-bin/browse-edgar?action=getcompany&CIK=ACGL</a> |\n",
       "|  ACN   |       Accenture        |       IT Consulting & Other Services       | 384.95 |   32.294464    |     0.017      |     11.92      |    278.69   |    387.51    |  240778526720 | 11065912320  |  3.7101948  |  8.508687  |  <a href=http://www.sec.gov/cgi-bin/browse-edgar?action=getcompany&CIK=ACN>http://www.sec.gov/cgi-bin/browse-edgar?action=getcompany&CIK=ACN</a>  |\n",
       "|  ADBE  |       Adobe Inc.       |            Application Software            | 437.45 |    35.42105    |      null      |     12.35      |    403.75   |    638.25    |  190421991424 |  8134000128  |   9.090657  | 13.383815  | <a href=http://www.sec.gov/cgi-bin/browse-edgar?action=getcompany&CIK=ADBE>http://www.sec.gov/cgi-bin/browse-edgar?action=getcompany&CIK=ADBE</a> |\n",
       "|  ADI   |     Analog Devices     |               Semiconductors               | 211.89 |   64.798164    |     0.0165     |      3.27      |    182.57   |    244.14    |  105128370176 |  4361349120  |  10.837489  | 2.9895453  |  <a href=http://www.sec.gov/cgi-bin/browse-edgar?action=getcompany&CIK=ADI>http://www.sec.gov/cgi-bin/browse-edgar?action=getcompany&CIK=ADI</a>  |\n",
       "|  ADM   | Archer Daniels Midland |      Agricultural Products & Services      | 51.23  |    14.39045    |     0.0379     |      3.56      |     48.4    |    66.08     |  24515297280  |  3988000000  |  0.27617267 | 1.0890499  |  <a href=http://www.sec.gov/cgi-bin/browse-edgar?action=getcompany&CIK=ADM>http://www.sec.gov/cgi-bin/browse-edgar?action=getcompany&CIK=ADM</a>  |\n",
       "+--------+------------------------+--------------------------------------------+--------+----------------+----------------+----------------+-------------+--------------+---------------+--------------+-------------+------------+---------------------------------------------------------------------------------------------------------------------------------------------------+\n",
       "Truncated to displaylimit of 10."
      ]
     },
     "execution_count": 11,
     "metadata": {},
     "output_type": "execute_result"
    }
   ],
   "source": [
    "%%sql \n",
    "SELECT * \n",
    "FROM constituents_financial;"
   ]
  }
 ],
 "metadata": {
  "kernelspec": {
   "display_name": "base",
   "language": "python",
   "name": "python3"
  },
  "language_info": {
   "codemirror_mode": {
    "name": "ipython",
    "version": 3
   },
   "file_extension": ".py",
   "mimetype": "text/x-python",
   "name": "python",
   "nbconvert_exporter": "python",
   "pygments_lexer": "ipython3",
   "version": "3.11.5"
  }
 },
 "nbformat": 4,
 "nbformat_minor": 2
}
